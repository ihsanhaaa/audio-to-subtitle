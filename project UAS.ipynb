{
 "cells": [
  {
   "cell_type": "code",
   "execution_count": 3,
   "metadata": {},
   "outputs": [],
   "source": [
    "import speech_recognition as sr\n",
    "import pydub\n",
    "import srt\n",
    "import datetime as dt"
   ]
  },
  {
   "cell_type": "code",
   "execution_count": 4,
   "metadata": {},
   "outputs": [],
   "source": [
    "myaudio = intro = pydub.AudioSegment.from_wav('belajar-sambutan.wav')\n",
    "bicara = pydub.silence.detect_nonsilent(myaudio, min_silence_len=300, silence_thresh=-52)\n",
    "bicara = [(int(start/1000),int(stop/1000)) for start, stop in bicara]"
   ]
  },
  {
   "cell_type": "code",
   "execution_count": 5,
   "metadata": {},
   "outputs": [
    {
     "name": "stdout",
     "output_type": "stream",
     "text": [
      "[(0, 109)]\n"
     ]
    }
   ],
   "source": [
    "bicara_clean = []\n",
    "skip = []\n",
    "for idx, val in enumerate(bicara):\n",
    "    if idx not in skip:\n",
    "        if val[1]-val[0] < 3:\n",
    "            try:\n",
    "                bicara_clean.append((val[0], bicara[idx+1][1]))\n",
    "                skip.append(idx+1)\n",
    "            except:\n",
    "                bicara_clean.append(val)\n",
    "        else:\n",
    "            bicara_clean.append(val)\n",
    "\n",
    "print(bicara_clean)"
   ]
  },
  {
   "cell_type": "code",
   "execution_count": 6,
   "metadata": {},
   "outputs": [
    {
     "name": "stdout",
     "output_type": "stream",
     "text": [
      "109\n"
     ]
    }
   ],
   "source": [
    "engine = sr.Recognizer()\n",
    "subs = []\n",
    "timer = 0\n",
    "\n",
    "with sr.AudioFile('belajar-sambutan.wav') as source:\n",
    "    for i,v in enumerate(bicara_clean):\n",
    "        audiotext = engine.record(source, duration=v[1]-timer)\n",
    "\n",
    "        try:\n",
    "            kata = engine.recognize_google(audiotext, language = \"id-ID\")\n",
    "            subs.append(srt.Subtitle(index=(i+1), start=dt.timedelta(seconds=v[0]), end=dt.timedelta(seconds=v[1]), content=kata))\n",
    "            timer += (v[1]-timer)\n",
    "            print(v[1])\n",
    "        except sr.UnknownValueError:\n",
    "            print(\"suara tidak terdeteksi\")\n",
    "        except Exception as e:\n",
    "            print(e)"
   ]
  },
  {
   "cell_type": "code",
   "execution_count": 7,
   "metadata": {},
   "outputs": [
    {
     "data": {
      "text/plain": [
       "[Subtitle(index=1, start=datetime.timedelta(0), end=datetime.timedelta(seconds=109), content='assalamualaikum warahmatullah wabarakatuh bersyukur kepada Allah dengan ucapan Alhamdulillah bershalawat kepada Baginda Nabi dengan ucapan Allahumma sholli ala Muhammad yang saya hormati segenap tokoh masyarakat para pejabat muslimin serta muslimat mohon maaf tidak bisa saya Sebutkan satu persatu tapi Insya Allah tidak mengurangi rasa hormat hadirin yang berbahagia saya mewakili panitia penyelenggara mengucapkan terima kasih yang sebesar-besarnya kepada seluruh pihak yang ikut membantu mensukseskan acara ini semoga semuanya dibalas dengan sebaik-baiknya balasan menjadi sebab datangnya kebaikan dan keberkahan dan kami juga mohon maaf sebesar-besarnya karena tentu ada banyak kekurangan pada acara ini tapi Insya Allah segala kekurangan tidak kami buat dengan sengaja karena kami panitia dari awal sudah berniat membuat acara terbaik yang kami bisa agar Bapak Ibu semua bisa senang dan bahagia tapi apalah daya kami Manusia tempatnya salah dan juga dosa bapak ibu hadirin yang berbahagia ada pantun bunyinya seperti ini bapak-ibu ikan sepat ikan gabus lebih cepat lebih bagus jadi Cukup sekian sambutan saya Bapak Ibu pergi ke sawah menanam padi salah dan khilaf mohon dimaklumi Wassalamualaikum warahmatullah', proprietary='')]"
      ]
     },
     "execution_count": 7,
     "metadata": {},
     "output_type": "execute_result"
    }
   ],
   "source": [
    "subs"
   ]
  },
  {
   "cell_type": "code",
   "execution_count": 8,
   "metadata": {},
   "outputs": [
    {
     "name": "stdout",
     "output_type": "stream",
     "text": [
      "1\n",
      "00:00:00,000 --> 00:01:49,000\n",
      "assalamualaikum warahmatullah wabarakatuh bersyukur kepada Allah dengan ucapan Alhamdulillah bershalawat kepada Baginda Nabi dengan ucapan Allahumma sholli ala Muhammad yang saya hormati segenap tokoh masyarakat para pejabat muslimin serta muslimat mohon maaf tidak bisa saya Sebutkan satu persatu tapi Insya Allah tidak mengurangi rasa hormat hadirin yang berbahagia saya mewakili panitia penyelenggara mengucapkan terima kasih yang sebesar-besarnya kepada seluruh pihak yang ikut membantu mensukseskan acara ini semoga semuanya dibalas dengan sebaik-baiknya balasan menjadi sebab datangnya kebaikan dan keberkahan dan kami juga mohon maaf sebesar-besarnya karena tentu ada banyak kekurangan pada acara ini tapi Insya Allah segala kekurangan tidak kami buat dengan sengaja karena kami panitia dari awal sudah berniat membuat acara terbaik yang kami bisa agar Bapak Ibu semua bisa senang dan bahagia tapi apalah daya kami Manusia tempatnya salah dan juga dosa bapak ibu hadirin yang berbahagia ada pantun bunyinya seperti ini bapak-ibu ikan sepat ikan gabus lebih cepat lebih bagus jadi Cukup sekian sambutan saya Bapak Ibu pergi ke sawah menanam padi salah dan khilaf mohon dimaklumi Wassalamualaikum warahmatullah\n",
      "\n",
      "\n"
     ]
    }
   ],
   "source": [
    "print(srt.compose(subs))"
   ]
  },
  {
   "cell_type": "code",
   "execution_count": 9,
   "metadata": {},
   "outputs": [],
   "source": [
    "filesub = open(\"subtitle.srt\", \"w\")\n",
    "filesub.write(srt.compose(subs))\n",
    "filesub.close()"
   ]
  }
 ],
 "metadata": {
  "interpreter": {
   "hash": "b86b9149afa8b3854ce5fda085a2016ade69e336739f8162fdc79920e4c2bacc"
  },
  "kernelspec": {
   "display_name": "Python 3.9.10 64-bit",
   "language": "python",
   "name": "python3"
  },
  "language_info": {
   "codemirror_mode": {
    "name": "ipython",
    "version": 3
   },
   "file_extension": ".py",
   "mimetype": "text/x-python",
   "name": "python",
   "nbconvert_exporter": "python",
   "pygments_lexer": "ipython3",
   "version": "3.9.10"
  },
  "orig_nbformat": 4
 },
 "nbformat": 4,
 "nbformat_minor": 2
}
